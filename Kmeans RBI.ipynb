{
 "cells": [
  {
   "cell_type": "code",
   "execution_count": 2,
   "metadata": {},
   "outputs": [
    {
     "name": "stdout",
     "output_type": "stream",
     "text": [
      "Requirement already satisfied: pyclustertend in c:\\users\\shubhamv\\anaconda3\\lib\\site-packages (1.4.9)\n"
     ]
    }
   ],
   "source": [
    "import numpy as np\n",
    "import matplotlib.pyplot as plt\n",
    "from sklearn import preprocessing\n",
    "from sklearn.preprocessing import scale\n",
    "from sklearn.preprocessing import StandardScaler\n",
    "from sklearn.cluster import KMeans\n",
    "import seaborn as sb\n",
    "import pandas as pd\n",
    "from scipy.spatial import distance_matrix\n",
    "from random import sample\n",
    "from sklearn.metrics import silhouette_score\n",
    "from scipy.spatial import distance\n",
    "#!pip install pyclustertend\n",
    "from pyclustertend import vat"
   ]
  },
  {
   "cell_type": "code",
   "execution_count": 3,
   "metadata": {},
   "outputs": [],
   "source": [
    "data = pd.read_csv(\"C:/Users/shubhamv/Downloads/RBIdata.csv\")"
   ]
  },
  {
   "cell_type": "code",
   "execution_count": 4,
   "metadata": {},
   "outputs": [],
   "source": [
    "data = pd.DataFrame(data)"
   ]
  },
  {
   "cell_type": "code",
   "execution_count": 5,
   "metadata": {},
   "outputs": [
    {
     "data": {
      "text/html": [
       "<div>\n",
       "<style scoped>\n",
       "    .dataframe tbody tr th:only-of-type {\n",
       "        vertical-align: middle;\n",
       "    }\n",
       "\n",
       "    .dataframe tbody tr th {\n",
       "        vertical-align: top;\n",
       "    }\n",
       "\n",
       "    .dataframe thead th {\n",
       "        text-align: right;\n",
       "    }\n",
       "</style>\n",
       "<table border=\"1\" class=\"dataframe\">\n",
       "  <thead>\n",
       "    <tr style=\"text-align: right;\">\n",
       "      <th></th>\n",
       "      <th>Unnamed: 0</th>\n",
       "      <th>BirthRate</th>\n",
       "      <th>MortalitityRate</th>\n",
       "      <th>PowerAvailability</th>\n",
       "      <th>RoadLength</th>\n",
       "    </tr>\n",
       "  </thead>\n",
       "  <tbody>\n",
       "    <tr>\n",
       "      <th>0</th>\n",
       "      <td>Andaman &amp; Nicobar Islands</td>\n",
       "      <td>12.0</td>\n",
       "      <td>20</td>\n",
       "      <td>473.8</td>\n",
       "      <td>1352</td>\n",
       "    </tr>\n",
       "    <tr>\n",
       "      <th>1</th>\n",
       "      <td>Andhra Pradesh</td>\n",
       "      <td>16.8</td>\n",
       "      <td>37</td>\n",
       "      <td>1019.8</td>\n",
       "      <td>179022</td>\n",
       "    </tr>\n",
       "    <tr>\n",
       "      <th>2</th>\n",
       "      <td>Arunachal Pradesh</td>\n",
       "      <td>18.8</td>\n",
       "      <td>30</td>\n",
       "      <td>427.5</td>\n",
       "      <td>25362</td>\n",
       "    </tr>\n",
       "    <tr>\n",
       "      <th>3</th>\n",
       "      <td>Assam</td>\n",
       "      <td>22.0</td>\n",
       "      <td>47</td>\n",
       "      <td>265.4</td>\n",
       "      <td>326512</td>\n",
       "    </tr>\n",
       "    <tr>\n",
       "      <th>4</th>\n",
       "      <td>Bihar</td>\n",
       "      <td>26.3</td>\n",
       "      <td>42</td>\n",
       "      <td>227.9</td>\n",
       "      <td>206010</td>\n",
       "    </tr>\n",
       "    <tr>\n",
       "      <th>5</th>\n",
       "      <td>Chandigarh</td>\n",
       "      <td>13.7</td>\n",
       "      <td>21</td>\n",
       "      <td>1523.7</td>\n",
       "      <td>2935</td>\n",
       "    </tr>\n",
       "    <tr>\n",
       "      <th>6</th>\n",
       "      <td>Chhattisgarh</td>\n",
       "      <td>23.2</td>\n",
       "      <td>41</td>\n",
       "      <td>991.0</td>\n",
       "      <td>97534</td>\n",
       "    </tr>\n",
       "  </tbody>\n",
       "</table>\n",
       "</div>"
      ],
      "text/plain": [
       "                  Unnamed: 0  BirthRate  MortalitityRate  PowerAvailability  \\\n",
       "0  Andaman & Nicobar Islands       12.0               20              473.8   \n",
       "1             Andhra Pradesh       16.8               37             1019.8   \n",
       "2          Arunachal Pradesh       18.8               30              427.5   \n",
       "3                      Assam       22.0               47              265.4   \n",
       "4                      Bihar       26.3               42              227.9   \n",
       "5                 Chandigarh       13.7               21             1523.7   \n",
       "6               Chhattisgarh       23.2               41              991.0   \n",
       "\n",
       "   RoadLength  \n",
       "0        1352  \n",
       "1      179022  \n",
       "2       25362  \n",
       "3      326512  \n",
       "4      206010  \n",
       "5        2935  \n",
       "6       97534  "
      ]
     },
     "execution_count": 5,
     "metadata": {},
     "output_type": "execute_result"
    }
   ],
   "source": [
    "data.head(7)"
   ]
  },
  {
   "cell_type": "code",
   "execution_count": 13,
   "metadata": {},
   "outputs": [],
   "source": [
    "data.rename(columns={'Unnamed: 0' :'States'}, inplace = True)"
   ]
  },
  {
   "cell_type": "code",
   "execution_count": 14,
   "metadata": {},
   "outputs": [
    {
     "data": {
      "text/html": [
       "<div>\n",
       "<style scoped>\n",
       "    .dataframe tbody tr th:only-of-type {\n",
       "        vertical-align: middle;\n",
       "    }\n",
       "\n",
       "    .dataframe tbody tr th {\n",
       "        vertical-align: top;\n",
       "    }\n",
       "\n",
       "    .dataframe thead th {\n",
       "        text-align: right;\n",
       "    }\n",
       "</style>\n",
       "<table border=\"1\" class=\"dataframe\">\n",
       "  <thead>\n",
       "    <tr style=\"text-align: right;\">\n",
       "      <th></th>\n",
       "      <th>States</th>\n",
       "      <th>BirthRate</th>\n",
       "      <th>MortalitityRate</th>\n",
       "      <th>PowerAvailability</th>\n",
       "      <th>RoadLength</th>\n",
       "    </tr>\n",
       "  </thead>\n",
       "  <tbody>\n",
       "    <tr>\n",
       "      <th>0</th>\n",
       "      <td>Andaman &amp; Nicobar Islands</td>\n",
       "      <td>12.0</td>\n",
       "      <td>20</td>\n",
       "      <td>473.8</td>\n",
       "      <td>1352</td>\n",
       "    </tr>\n",
       "    <tr>\n",
       "      <th>1</th>\n",
       "      <td>Andhra Pradesh</td>\n",
       "      <td>16.8</td>\n",
       "      <td>37</td>\n",
       "      <td>1019.8</td>\n",
       "      <td>179022</td>\n",
       "    </tr>\n",
       "    <tr>\n",
       "      <th>2</th>\n",
       "      <td>Arunachal Pradesh</td>\n",
       "      <td>18.8</td>\n",
       "      <td>30</td>\n",
       "      <td>427.5</td>\n",
       "      <td>25362</td>\n",
       "    </tr>\n",
       "    <tr>\n",
       "      <th>3</th>\n",
       "      <td>Assam</td>\n",
       "      <td>22.0</td>\n",
       "      <td>47</td>\n",
       "      <td>265.4</td>\n",
       "      <td>326512</td>\n",
       "    </tr>\n",
       "  </tbody>\n",
       "</table>\n",
       "</div>"
      ],
      "text/plain": [
       "                      States  BirthRate  MortalitityRate  PowerAvailability  \\\n",
       "0  Andaman & Nicobar Islands       12.0               20              473.8   \n",
       "1             Andhra Pradesh       16.8               37             1019.8   \n",
       "2          Arunachal Pradesh       18.8               30              427.5   \n",
       "3                      Assam       22.0               47              265.4   \n",
       "\n",
       "   RoadLength  \n",
       "0        1352  \n",
       "1      179022  \n",
       "2       25362  \n",
       "3      326512  "
      ]
     },
     "execution_count": 14,
     "metadata": {},
     "output_type": "execute_result"
    }
   ],
   "source": [
    "data.head(4)"
   ]
  },
  {
   "cell_type": "code",
   "execution_count": 15,
   "metadata": {},
   "outputs": [],
   "source": [
    "data.set_index('States',inplace=True)"
   ]
  },
  {
   "cell_type": "code",
   "execution_count": 16,
   "metadata": {},
   "outputs": [
    {
     "data": {
      "text/html": [
       "<div>\n",
       "<style scoped>\n",
       "    .dataframe tbody tr th:only-of-type {\n",
       "        vertical-align: middle;\n",
       "    }\n",
       "\n",
       "    .dataframe tbody tr th {\n",
       "        vertical-align: top;\n",
       "    }\n",
       "\n",
       "    .dataframe thead th {\n",
       "        text-align: right;\n",
       "    }\n",
       "</style>\n",
       "<table border=\"1\" class=\"dataframe\">\n",
       "  <thead>\n",
       "    <tr style=\"text-align: right;\">\n",
       "      <th></th>\n",
       "      <th>BirthRate</th>\n",
       "      <th>MortalitityRate</th>\n",
       "      <th>PowerAvailability</th>\n",
       "      <th>RoadLength</th>\n",
       "    </tr>\n",
       "    <tr>\n",
       "      <th>States</th>\n",
       "      <th></th>\n",
       "      <th></th>\n",
       "      <th></th>\n",
       "      <th></th>\n",
       "    </tr>\n",
       "  </thead>\n",
       "  <tbody>\n",
       "    <tr>\n",
       "      <th>Andaman &amp; Nicobar Islands</th>\n",
       "      <td>12.0</td>\n",
       "      <td>20</td>\n",
       "      <td>473.8</td>\n",
       "      <td>1352</td>\n",
       "    </tr>\n",
       "    <tr>\n",
       "      <th>Andhra Pradesh</th>\n",
       "      <td>16.8</td>\n",
       "      <td>37</td>\n",
       "      <td>1019.8</td>\n",
       "      <td>179022</td>\n",
       "    </tr>\n",
       "    <tr>\n",
       "      <th>Arunachal Pradesh</th>\n",
       "      <td>18.8</td>\n",
       "      <td>30</td>\n",
       "      <td>427.5</td>\n",
       "      <td>25362</td>\n",
       "    </tr>\n",
       "    <tr>\n",
       "      <th>Assam</th>\n",
       "      <td>22.0</td>\n",
       "      <td>47</td>\n",
       "      <td>265.4</td>\n",
       "      <td>326512</td>\n",
       "    </tr>\n",
       "    <tr>\n",
       "      <th>Bihar</th>\n",
       "      <td>26.3</td>\n",
       "      <td>42</td>\n",
       "      <td>227.9</td>\n",
       "      <td>206010</td>\n",
       "    </tr>\n",
       "  </tbody>\n",
       "</table>\n",
       "</div>"
      ],
      "text/plain": [
       "                           BirthRate  MortalitityRate  PowerAvailability  \\\n",
       "States                                                                     \n",
       "Andaman & Nicobar Islands       12.0               20              473.8   \n",
       "Andhra Pradesh                  16.8               37             1019.8   \n",
       "Arunachal Pradesh               18.8               30              427.5   \n",
       "Assam                           22.0               47              265.4   \n",
       "Bihar                           26.3               42              227.9   \n",
       "\n",
       "                           RoadLength  \n",
       "States                                 \n",
       "Andaman & Nicobar Islands        1352  \n",
       "Andhra Pradesh                 179022  \n",
       "Arunachal Pradesh               25362  \n",
       "Assam                          326512  \n",
       "Bihar                          206010  "
      ]
     },
     "execution_count": 16,
     "metadata": {},
     "output_type": "execute_result"
    }
   ],
   "source": [
    "data.head()"
   ]
  },
  {
   "cell_type": "code",
   "execution_count": 17,
   "metadata": {},
   "outputs": [],
   "source": [
    "# take 10 random samples"
   ]
  },
  {
   "cell_type": "code",
   "execution_count": 20,
   "metadata": {},
   "outputs": [],
   "source": [
    "sample = data.sample(frac=0.29,replace=False,random_state=123)"
   ]
  },
  {
   "cell_type": "code",
   "execution_count": 21,
   "metadata": {},
   "outputs": [
    {
     "data": {
      "text/plain": [
       "10"
      ]
     },
     "execution_count": 21,
     "metadata": {},
     "output_type": "execute_result"
    }
   ],
   "source": [
    "len(sample)"
   ]
  },
  {
   "cell_type": "code",
   "execution_count": 22,
   "metadata": {},
   "outputs": [
    {
     "data": {
      "text/html": [
       "<div>\n",
       "<style scoped>\n",
       "    .dataframe tbody tr th:only-of-type {\n",
       "        vertical-align: middle;\n",
       "    }\n",
       "\n",
       "    .dataframe tbody tr th {\n",
       "        vertical-align: top;\n",
       "    }\n",
       "\n",
       "    .dataframe thead th {\n",
       "        text-align: right;\n",
       "    }\n",
       "</style>\n",
       "<table border=\"1\" class=\"dataframe\">\n",
       "  <thead>\n",
       "    <tr style=\"text-align: right;\">\n",
       "      <th></th>\n",
       "      <th>BirthRate</th>\n",
       "      <th>MortalitityRate</th>\n",
       "      <th>PowerAvailability</th>\n",
       "      <th>RoadLength</th>\n",
       "    </tr>\n",
       "    <tr>\n",
       "      <th>States</th>\n",
       "      <th></th>\n",
       "      <th></th>\n",
       "      <th></th>\n",
       "      <th></th>\n",
       "    </tr>\n",
       "  </thead>\n",
       "  <tbody>\n",
       "    <tr>\n",
       "      <th>Chhattisgarh</th>\n",
       "      <td>23.2</td>\n",
       "      <td>41</td>\n",
       "      <td>991.0</td>\n",
       "      <td>97534</td>\n",
       "    </tr>\n",
       "    <tr>\n",
       "      <th>Daman &amp; Diu</th>\n",
       "      <td>17.1</td>\n",
       "      <td>18</td>\n",
       "      <td>9620.8</td>\n",
       "      <td>522</td>\n",
       "    </tr>\n",
       "    <tr>\n",
       "      <th>Himachal Pradesh</th>\n",
       "      <td>16.3</td>\n",
       "      <td>28</td>\n",
       "      <td>1277.3</td>\n",
       "      <td>55593</td>\n",
       "    </tr>\n",
       "    <tr>\n",
       "      <th>Gujarat</th>\n",
       "      <td>20.4</td>\n",
       "      <td>33</td>\n",
       "      <td>1714.7</td>\n",
       "      <td>182287</td>\n",
       "    </tr>\n",
       "    <tr>\n",
       "      <th>Chandigarh</th>\n",
       "      <td>13.7</td>\n",
       "      <td>21</td>\n",
       "      <td>1523.7</td>\n",
       "      <td>2935</td>\n",
       "    </tr>\n",
       "    <tr>\n",
       "      <th>Tripura</th>\n",
       "      <td>14.7</td>\n",
       "      <td>20</td>\n",
       "      <td>312.2</td>\n",
       "      <td>37384</td>\n",
       "    </tr>\n",
       "    <tr>\n",
       "      <th>Mizoram</th>\n",
       "      <td>16.2</td>\n",
       "      <td>32</td>\n",
       "      <td>417.0</td>\n",
       "      <td>9831</td>\n",
       "    </tr>\n",
       "    <tr>\n",
       "      <th>Telangana</th>\n",
       "      <td>17.8</td>\n",
       "      <td>34</td>\n",
       "      <td>1415.5</td>\n",
       "      <td>100251</td>\n",
       "    </tr>\n",
       "    <tr>\n",
       "      <th>Haryana</th>\n",
       "      <td>20.9</td>\n",
       "      <td>36</td>\n",
       "      <td>1871.1</td>\n",
       "      <td>46287</td>\n",
       "    </tr>\n",
       "    <tr>\n",
       "      <th>Lakshadweep</th>\n",
       "      <td>14.7</td>\n",
       "      <td>20</td>\n",
       "      <td>745.0</td>\n",
       "      <td>214</td>\n",
       "    </tr>\n",
       "  </tbody>\n",
       "</table>\n",
       "</div>"
      ],
      "text/plain": [
       "                  BirthRate  MortalitityRate  PowerAvailability  RoadLength\n",
       "States                                                                     \n",
       "Chhattisgarh           23.2               41              991.0       97534\n",
       "Daman & Diu            17.1               18             9620.8         522\n",
       "Himachal Pradesh       16.3               28             1277.3       55593\n",
       "Gujarat                20.4               33             1714.7      182287\n",
       "Chandigarh             13.7               21             1523.7        2935\n",
       "Tripura                14.7               20              312.2       37384\n",
       "Mizoram                16.2               32              417.0        9831\n",
       "Telangana              17.8               34             1415.5      100251\n",
       "Haryana                20.9               36             1871.1       46287\n",
       "Lakshadweep            14.7               20              745.0         214"
      ]
     },
     "execution_count": 22,
     "metadata": {},
     "output_type": "execute_result"
    }
   ],
   "source": [
    "sample"
   ]
  },
  {
   "cell_type": "code",
   "execution_count": 23,
   "metadata": {},
   "outputs": [],
   "source": [
    "# Distance matrix"
   ]
  },
  {
   "cell_type": "code",
   "execution_count": 24,
   "metadata": {},
   "outputs": [],
   "source": [
    "DM = pd.DataFrame(distance_matrix(sample.values,sample.values),index=sample.index,columns=sample.index)"
   ]
  },
  {
   "cell_type": "code",
   "execution_count": 25,
   "metadata": {},
   "outputs": [
    {
     "data": {
      "text/html": [
       "<div>\n",
       "<style scoped>\n",
       "    .dataframe tbody tr th:only-of-type {\n",
       "        vertical-align: middle;\n",
       "    }\n",
       "\n",
       "    .dataframe tbody tr th {\n",
       "        vertical-align: top;\n",
       "    }\n",
       "\n",
       "    .dataframe thead th {\n",
       "        text-align: right;\n",
       "    }\n",
       "</style>\n",
       "<table border=\"1\" class=\"dataframe\">\n",
       "  <thead>\n",
       "    <tr style=\"text-align: right;\">\n",
       "      <th>States</th>\n",
       "      <th>Chhattisgarh</th>\n",
       "      <th>Daman &amp; Diu</th>\n",
       "      <th>Himachal Pradesh</th>\n",
       "      <th>Gujarat</th>\n",
       "      <th>Chandigarh</th>\n",
       "      <th>Tripura</th>\n",
       "      <th>Mizoram</th>\n",
       "      <th>Telangana</th>\n",
       "      <th>Haryana</th>\n",
       "      <th>Lakshadweep</th>\n",
       "    </tr>\n",
       "    <tr>\n",
       "      <th>States</th>\n",
       "      <th></th>\n",
       "      <th></th>\n",
       "      <th></th>\n",
       "      <th></th>\n",
       "      <th></th>\n",
       "      <th></th>\n",
       "      <th></th>\n",
       "      <th></th>\n",
       "      <th></th>\n",
       "      <th></th>\n",
       "    </tr>\n",
       "  </thead>\n",
       "  <tbody>\n",
       "    <tr>\n",
       "      <th>Chhattisgarh</th>\n",
       "      <td>0.00</td>\n",
       "      <td>97395.08</td>\n",
       "      <td>41941.98</td>\n",
       "      <td>84756.09</td>\n",
       "      <td>94600.50</td>\n",
       "      <td>60153.83</td>\n",
       "      <td>87704.88</td>\n",
       "      <td>2749.98</td>\n",
       "      <td>51254.56</td>\n",
       "      <td>97320.31</td>\n",
       "    </tr>\n",
       "    <tr>\n",
       "      <th>Daman &amp; Diu</th>\n",
       "      <td>97395.08</td>\n",
       "      <td>0.00</td>\n",
       "      <td>55699.45</td>\n",
       "      <td>181936.86</td>\n",
       "      <td>8449.00</td>\n",
       "      <td>38019.17</td>\n",
       "      <td>13090.75</td>\n",
       "      <td>100065.98</td>\n",
       "      <td>46416.52</td>\n",
       "      <td>8881.14</td>\n",
       "    </tr>\n",
       "    <tr>\n",
       "      <th>Himachal Pradesh</th>\n",
       "      <td>41941.98</td>\n",
       "      <td>55699.45</td>\n",
       "      <td>0.00</td>\n",
       "      <td>126694.76</td>\n",
       "      <td>52658.58</td>\n",
       "      <td>18234.56</td>\n",
       "      <td>45770.09</td>\n",
       "      <td>44658.21</td>\n",
       "      <td>9324.93</td>\n",
       "      <td>55381.56</td>\n",
       "    </tr>\n",
       "    <tr>\n",
       "      <th>Gujarat</th>\n",
       "      <td>84756.09</td>\n",
       "      <td>181936.86</td>\n",
       "      <td>126694.76</td>\n",
       "      <td>0.00</td>\n",
       "      <td>179352.10</td>\n",
       "      <td>144909.79</td>\n",
       "      <td>172460.88</td>\n",
       "      <td>82036.55</td>\n",
       "      <td>136000.09</td>\n",
       "      <td>182075.58</td>\n",
       "    </tr>\n",
       "    <tr>\n",
       "      <th>Chandigarh</th>\n",
       "      <td>94600.50</td>\n",
       "      <td>8449.00</td>\n",
       "      <td>52658.58</td>\n",
       "      <td>179352.10</td>\n",
       "      <td>0.00</td>\n",
       "      <td>34470.30</td>\n",
       "      <td>6984.25</td>\n",
       "      <td>97316.06</td>\n",
       "      <td>43353.40</td>\n",
       "      <td>2830.23</td>\n",
       "    </tr>\n",
       "    <tr>\n",
       "      <th>Tripura</th>\n",
       "      <td>60153.83</td>\n",
       "      <td>38019.17</td>\n",
       "      <td>18234.56</td>\n",
       "      <td>144909.79</td>\n",
       "      <td>34470.30</td>\n",
       "      <td>0.00</td>\n",
       "      <td>27553.20</td>\n",
       "      <td>62876.68</td>\n",
       "      <td>9038.47</td>\n",
       "      <td>37172.52</td>\n",
       "    </tr>\n",
       "    <tr>\n",
       "      <th>Mizoram</th>\n",
       "      <td>87704.88</td>\n",
       "      <td>13090.75</td>\n",
       "      <td>45770.09</td>\n",
       "      <td>172460.88</td>\n",
       "      <td>6984.25</td>\n",
       "      <td>27553.20</td>\n",
       "      <td>0.00</td>\n",
       "      <td>90425.51</td>\n",
       "      <td>36484.99</td>\n",
       "      <td>9622.60</td>\n",
       "    </tr>\n",
       "    <tr>\n",
       "      <th>Telangana</th>\n",
       "      <td>2749.98</td>\n",
       "      <td>100065.98</td>\n",
       "      <td>44658.21</td>\n",
       "      <td>82036.55</td>\n",
       "      <td>97316.06</td>\n",
       "      <td>62876.68</td>\n",
       "      <td>90425.51</td>\n",
       "      <td>0.00</td>\n",
       "      <td>53965.92</td>\n",
       "      <td>100039.25</td>\n",
       "    </tr>\n",
       "    <tr>\n",
       "      <th>Haryana</th>\n",
       "      <td>51254.56</td>\n",
       "      <td>46416.52</td>\n",
       "      <td>9324.93</td>\n",
       "      <td>136000.09</td>\n",
       "      <td>43353.40</td>\n",
       "      <td>9038.47</td>\n",
       "      <td>36484.99</td>\n",
       "      <td>53965.92</td>\n",
       "      <td>0.00</td>\n",
       "      <td>46086.76</td>\n",
       "    </tr>\n",
       "    <tr>\n",
       "      <th>Lakshadweep</th>\n",
       "      <td>97320.31</td>\n",
       "      <td>8881.14</td>\n",
       "      <td>55381.56</td>\n",
       "      <td>182075.58</td>\n",
       "      <td>2830.23</td>\n",
       "      <td>37172.52</td>\n",
       "      <td>9622.60</td>\n",
       "      <td>100039.25</td>\n",
       "      <td>46086.76</td>\n",
       "      <td>0.00</td>\n",
       "    </tr>\n",
       "  </tbody>\n",
       "</table>\n",
       "</div>"
      ],
      "text/plain": [
       "States            Chhattisgarh  Daman & Diu  Himachal Pradesh    Gujarat  \\\n",
       "States                                                                     \n",
       "Chhattisgarh              0.00     97395.08          41941.98   84756.09   \n",
       "Daman & Diu           97395.08         0.00          55699.45  181936.86   \n",
       "Himachal Pradesh      41941.98     55699.45              0.00  126694.76   \n",
       "Gujarat               84756.09    181936.86         126694.76       0.00   \n",
       "Chandigarh            94600.50      8449.00          52658.58  179352.10   \n",
       "Tripura               60153.83     38019.17          18234.56  144909.79   \n",
       "Mizoram               87704.88     13090.75          45770.09  172460.88   \n",
       "Telangana              2749.98    100065.98          44658.21   82036.55   \n",
       "Haryana               51254.56     46416.52           9324.93  136000.09   \n",
       "Lakshadweep           97320.31      8881.14          55381.56  182075.58   \n",
       "\n",
       "States            Chandigarh    Tripura    Mizoram  Telangana    Haryana  \\\n",
       "States                                                                     \n",
       "Chhattisgarh        94600.50   60153.83   87704.88    2749.98   51254.56   \n",
       "Daman & Diu          8449.00   38019.17   13090.75  100065.98   46416.52   \n",
       "Himachal Pradesh    52658.58   18234.56   45770.09   44658.21    9324.93   \n",
       "Gujarat            179352.10  144909.79  172460.88   82036.55  136000.09   \n",
       "Chandigarh              0.00   34470.30    6984.25   97316.06   43353.40   \n",
       "Tripura             34470.30       0.00   27553.20   62876.68    9038.47   \n",
       "Mizoram              6984.25   27553.20       0.00   90425.51   36484.99   \n",
       "Telangana           97316.06   62876.68   90425.51       0.00   53965.92   \n",
       "Haryana             43353.40    9038.47   36484.99   53965.92       0.00   \n",
       "Lakshadweep          2830.23   37172.52    9622.60  100039.25   46086.76   \n",
       "\n",
       "States            Lakshadweep  \n",
       "States                         \n",
       "Chhattisgarh         97320.31  \n",
       "Daman & Diu           8881.14  \n",
       "Himachal Pradesh     55381.56  \n",
       "Gujarat             182075.58  \n",
       "Chandigarh            2830.23  \n",
       "Tripura              37172.52  \n",
       "Mizoram               9622.60  \n",
       "Telangana           100039.25  \n",
       "Haryana              46086.76  \n",
       "Lakshadweep              0.00  "
      ]
     },
     "execution_count": 25,
     "metadata": {},
     "output_type": "execute_result"
    }
   ],
   "source": [
    "round(DM,2)"
   ]
  },
  {
   "cell_type": "code",
   "execution_count": 26,
   "metadata": {},
   "outputs": [],
   "source": [
    "# plot distance matrix"
   ]
  },
  {
   "cell_type": "code",
   "execution_count": 27,
   "metadata": {},
   "outputs": [
    {
     "data": {
      "text/plain": [
       "<function matplotlib.pyplot.show(*args, **kw)>"
      ]
     },
     "execution_count": 27,
     "metadata": {},
     "output_type": "execute_result"
    },
    {
     "data": {
      "image/png": "[encoded data removed]",
      "text/plain": [
       "<Figure size 432x288 with 1 Axes>"
      ]
     },
     "metadata": {
      "needs_background": "light"
     },
     "output_type": "display_data"
    }
   ],
   "source": [
    "plt.plot(DM)\n",
    "plt.ylabel(\"k-distance\")\n",
    "plt.grid(True)\n",
    "plt.show"
   ]
  },
  {
   "cell_type": "code",
   "execution_count": 28,
   "metadata": {},
   "outputs": [],
   "source": [
    "# visualize distance matrix \n"
   ]
  },
  {
   "cell_type": "code",
   "execution_count": 29,
   "metadata": {},
   "outputs": [],
   "source": [
    "from pyclustertend import vat"
   ]
  },
  {
   "cell_type": "code",
   "execution_count": 30,
   "metadata": {},
   "outputs": [
    {
     "data": {
      "image/png": "[encoded data removed]",
      "text/plain": [
       "<Figure size 720x720 with 1 Axes>"
      ]
     },
     "metadata": {
      "needs_background": "light"
     },
     "output_type": "display_data"
    }
   ],
   "source": [
    "vat(sample)"
   ]
  },
  {
   "cell_type": "code",
   "execution_count": 31,
   "metadata": {},
   "outputs": [],
   "source": [
    "# lets scale the data"
   ]
  },
  {
   "cell_type": "code",
   "execution_count": 32,
   "metadata": {},
   "outputs": [],
   "source": [
    "data_scaled = StandardScaler().fit_transform(data)"
   ]
  },
  {
   "cell_type": "code",
   "execution_count": 33,
   "metadata": {},
   "outputs": [
    {
     "data": {
      "text/plain": [
       "array([[-1.51357482, -0.68327644, -0.39716756, -0.87187953],\n",
       "       [-0.35526778,  0.78396981, -0.21894484,  0.36094475],\n",
       "       [ 0.12736015,  0.17980959, -0.41228059, -0.7052779 ],\n",
       "       [ 0.89956484,  1.64705583, -0.4651925 ,  1.38435473],\n",
       "       [ 1.93721489,  1.21551282, -0.47743307,  0.54821025],\n",
       "       [-1.10334108, -0.59696784, -0.0544642 , -0.86089534],\n",
       "       [ 1.1891416 ,  1.12920422, -0.2283456 , -0.20448771],\n",
       "       [ 1.74416372, -0.59696784,  5.08912198, -0.87525874],\n",
       "       [-0.28287359, -0.85589364,  2.5885527 , -0.87763877],\n",
       "       [-0.45179337, -0.85589364,  0.02456093, -0.65875296],\n",
       "       [-1.34465504, -1.63267107,  0.59441667, -0.7797872 ],\n",
       "       [ 0.51346249,  0.4387354 ,  0.00788111,  0.38360007],\n",
       "       [ 0.63411948,  0.69766121,  0.05893246, -0.56008261],\n",
       "       [-0.47592477,  0.00719238, -0.13489291, -0.49550973],\n",
       "       [-0.50005616, -0.16542482, -0.18669501, -0.60997983],\n",
       "       [ 1.26153579,  0.35242679, -0.47697609, -0.58493754],\n",
       "       [-0.08982242,  0.00719238, -0.22625654,  1.35171441],\n",
       "       [-0.83789571, -1.37374526, -0.32506244,  0.47080051],\n",
       "       [-0.86202711, -0.68327644, -0.30864375, -0.87977593],\n",
       "       [ 1.74416372,  1.90598164, -0.27136713,  1.12358606],\n",
       "       [-0.47592477, -0.59696784, -0.14119273,  3.33852726],\n",
       "       [-0.9344213 , -1.63267107, -0.45468193, -0.71301471],\n",
       "       [ 1.30979858,  1.21551282, -0.36198   , -0.78847463],\n",
       "       [-0.50005616,  0.35242679, -0.41570795, -0.81304508],\n",
       "       [-0.83789571, -1.37374526, -0.43020079, -0.62330241],\n",
       "       [ 0.22388573,  1.56074723, -0.3448432 ,  1.08723346],\n",
       "       [-1.07920968, -1.46005386,  0.08527417, -0.85994472],\n",
       "       [-0.74137013, -0.42435063,  0.03343943, -0.15012881],\n",
       "       [ 1.57524394,  1.30182142, -0.23213202,  0.84065473],\n",
       "       [-0.30700499, -0.85589364, -0.33749886, -0.82956646],\n",
       "       [-0.74137013, -0.76958504, -0.11478573,  0.93047112],\n",
       "       [-0.11395382,  0.525044  , -0.08978233, -0.18563487],\n",
       "       [-0.86202711, -0.68327644, -0.44991627, -0.62185913],\n",
       "       [ 2.03374048,  1.56074723, -0.39968096,  2.00101667],\n",
       "       [-0.11395382,  0.525044  , -0.14285745, -0.44449536],\n",
       "       [-0.66897594, -0.16542482, -0.38319699,  1.17261593]])"
      ]
     },
     "execution_count": 33,
     "metadata": {},
     "output_type": "execute_result"
    }
   ],
   "source": [
    "data_scaled"
   ]
  },
  {
   "cell_type": "code",
   "execution_count": 34,
   "metadata": {},
   "outputs": [],
   "source": [
    "# how many clusters can be good "
   ]
  },
  {
   "cell_type": "code",
   "execution_count": 35,
   "metadata": {},
   "outputs": [
    {
     "data": {
      "text/plain": [
       "<Figure size 720x576 with 0 Axes>"
      ]
     },
     "execution_count": 35,
     "metadata": {},
     "output_type": "execute_result"
    },
    {
     "data": {
      "text/plain": [
       "<Figure size 720x576 with 0 Axes>"
      ]
     },
     "metadata": {},
     "output_type": "display_data"
    }
   ],
   "source": [
    "plt.figure(figsize=(10,8))"
   ]
  },
  {
   "cell_type": "code",
   "execution_count": 44,
   "metadata": {},
   "outputs": [],
   "source": [
    "wcss=[]"
   ]
  },
  {
   "cell_type": "code",
   "execution_count": 45,
   "metadata": {},
   "outputs": [
    {
     "data": {
      "image/png": "[encoded data removed]",
      "text/plain": [
       "<Figure size 432x288 with 1 Axes>"
      ]
     },
     "metadata": {
      "needs_background": "light"
     },
     "output_type": "display_data"
    }
   ],
   "source": [
    "for i in range(1,11):\n",
    "    kmeans = KMeans(n_clusters=i,init='random',random_state=42)\n",
    "    kmeans.fit(data_scaled)\n",
    "    wcss.append(kmeans.inertia_)\n",
    "    \n",
    "plt.plot(range(1,11),wcss,'bx-')\n",
    "plt.title('The Elbow Method')\n",
    "plt.xlabel('No.of clusters')\n",
    "plt.ylabel('wcss')\n",
    "plt.show()\n",
    "    "
   ]
  },
  {
   "cell_type": "code",
   "execution_count": 46,
   "metadata": {},
   "outputs": [],
   "source": [
    "# cluster membership "
   ]
  },
  {
   "cell_type": "code",
   "execution_count": 47,
   "metadata": {},
   "outputs": [],
   "source": [
    "kmeans = KMeans(n_clusters=4)"
   ]
  },
  {
   "cell_type": "code",
   "execution_count": 48,
   "metadata": {},
   "outputs": [],
   "source": [
    "clusters = kmeans.fit_predict(data_scaled)"
   ]
  },
  {
   "cell_type": "code",
   "execution_count": 49,
   "metadata": {},
   "outputs": [
    {
     "data": {
      "text/plain": [
       "array([2, 0, 0, 3, 3, 2, 3, 1, 1, 2, 2, 0, 0, 0, 2, 0, 0, 2, 2, 3, 0, 2,\n",
       "       3, 0, 2, 3, 2, 2, 3, 2, 0, 0, 2, 3, 0, 0])"
      ]
     },
     "execution_count": 49,
     "metadata": {},
     "output_type": "execute_result"
    }
   ],
   "source": [
    "clusters"
   ]
  },
  {
   "cell_type": "code",
   "execution_count": 50,
   "metadata": {},
   "outputs": [],
   "source": [
    "# lets add column 'cluster' to data"
   ]
  },
  {
   "cell_type": "code",
   "execution_count": 57,
   "metadata": {},
   "outputs": [],
   "source": [
    "Final_Clusters = clusters + 1"
   ]
  },
  {
   "cell_type": "raw",
   "metadata": {},
   "source": []
  },
  {
   "cell_type": "code",
   "execution_count": 58,
   "metadata": {},
   "outputs": [],
   "source": [
    "cluster = list(Final_Clusters)"
   ]
  },
  {
   "cell_type": "code",
   "execution_count": 59,
   "metadata": {},
   "outputs": [],
   "source": [
    "data['cluster']=cluster # addition of column to data set"
   ]
  },
  {
   "cell_type": "code",
   "execution_count": 61,
   "metadata": {},
   "outputs": [
    {
     "data": {
      "text/html": [
       "<div>\n",
       "<style scoped>\n",
       "    .dataframe tbody tr th:only-of-type {\n",
       "        vertical-align: middle;\n",
       "    }\n",
       "\n",
       "    .dataframe tbody tr th {\n",
       "        vertical-align: top;\n",
       "    }\n",
       "\n",
       "    .dataframe thead th {\n",
       "        text-align: right;\n",
       "    }\n",
       "</style>\n",
       "<table border=\"1\" class=\"dataframe\">\n",
       "  <thead>\n",
       "    <tr style=\"text-align: right;\">\n",
       "      <th></th>\n",
       "      <th>BirthRate</th>\n",
       "      <th>MortalitityRate</th>\n",
       "      <th>PowerAvailability</th>\n",
       "      <th>RoadLength</th>\n",
       "      <th>cluster</th>\n",
       "    </tr>\n",
       "    <tr>\n",
       "      <th>States</th>\n",
       "      <th></th>\n",
       "      <th></th>\n",
       "      <th></th>\n",
       "      <th></th>\n",
       "      <th></th>\n",
       "    </tr>\n",
       "  </thead>\n",
       "  <tbody>\n",
       "    <tr>\n",
       "      <th>Andaman &amp; Nicobar Islands</th>\n",
       "      <td>12.0</td>\n",
       "      <td>20</td>\n",
       "      <td>473.8</td>\n",
       "      <td>1352</td>\n",
       "      <td>3</td>\n",
       "    </tr>\n",
       "    <tr>\n",
       "      <th>Andhra Pradesh</th>\n",
       "      <td>16.8</td>\n",
       "      <td>37</td>\n",
       "      <td>1019.8</td>\n",
       "      <td>179022</td>\n",
       "      <td>1</td>\n",
       "    </tr>\n",
       "    <tr>\n",
       "      <th>Arunachal Pradesh</th>\n",
       "      <td>18.8</td>\n",
       "      <td>30</td>\n",
       "      <td>427.5</td>\n",
       "      <td>25362</td>\n",
       "      <td>1</td>\n",
       "    </tr>\n",
       "  </tbody>\n",
       "</table>\n",
       "</div>"
      ],
      "text/plain": [
       "                           BirthRate  MortalitityRate  PowerAvailability  \\\n",
       "States                                                                     \n",
       "Andaman & Nicobar Islands       12.0               20              473.8   \n",
       "Andhra Pradesh                  16.8               37             1019.8   \n",
       "Arunachal Pradesh               18.8               30              427.5   \n",
       "\n",
       "                           RoadLength  cluster  \n",
       "States                                          \n",
       "Andaman & Nicobar Islands        1352        3  \n",
       "Andhra Pradesh                 179022        1  \n",
       "Arunachal Pradesh               25362        1  "
      ]
     },
     "execution_count": 61,
     "metadata": {},
     "output_type": "execute_result"
    }
   ],
   "source": [
    "data.head(3)"
   ]
  },
  {
   "cell_type": "code",
   "execution_count": 66,
   "metadata": {},
   "outputs": [],
   "source": [
    "# Cluster 1"
   ]
  },
  {
   "cell_type": "code",
   "execution_count": 65,
   "metadata": {},
   "outputs": [
    {
     "data": {
      "text/html": [
       "<div>\n",
       "<style scoped>\n",
       "    .dataframe tbody tr th:only-of-type {\n",
       "        vertical-align: middle;\n",
       "    }\n",
       "\n",
       "    .dataframe tbody tr th {\n",
       "        vertical-align: top;\n",
       "    }\n",
       "\n",
       "    .dataframe thead th {\n",
       "        text-align: right;\n",
       "    }\n",
       "</style>\n",
       "<table border=\"1\" class=\"dataframe\">\n",
       "  <thead>\n",
       "    <tr style=\"text-align: right;\">\n",
       "      <th></th>\n",
       "      <th>BirthRate</th>\n",
       "      <th>MortalitityRate</th>\n",
       "      <th>PowerAvailability</th>\n",
       "      <th>RoadLength</th>\n",
       "      <th>cluster</th>\n",
       "    </tr>\n",
       "    <tr>\n",
       "      <th>States</th>\n",
       "      <th></th>\n",
       "      <th></th>\n",
       "      <th></th>\n",
       "      <th></th>\n",
       "      <th></th>\n",
       "    </tr>\n",
       "  </thead>\n",
       "  <tbody>\n",
       "    <tr>\n",
       "      <th>Andhra Pradesh</th>\n",
       "      <td>16.8</td>\n",
       "      <td>37</td>\n",
       "      <td>1019.8</td>\n",
       "      <td>179022</td>\n",
       "      <td>1</td>\n",
       "    </tr>\n",
       "    <tr>\n",
       "      <th>Arunachal Pradesh</th>\n",
       "      <td>18.8</td>\n",
       "      <td>30</td>\n",
       "      <td>427.5</td>\n",
       "      <td>25362</td>\n",
       "      <td>1</td>\n",
       "    </tr>\n",
       "    <tr>\n",
       "      <th>Gujarat</th>\n",
       "      <td>20.4</td>\n",
       "      <td>33</td>\n",
       "      <td>1714.7</td>\n",
       "      <td>182287</td>\n",
       "      <td>1</td>\n",
       "    </tr>\n",
       "    <tr>\n",
       "      <th>Haryana</th>\n",
       "      <td>20.9</td>\n",
       "      <td>36</td>\n",
       "      <td>1871.1</td>\n",
       "      <td>46287</td>\n",
       "      <td>1</td>\n",
       "    </tr>\n",
       "    <tr>\n",
       "      <th>Himachal Pradesh</th>\n",
       "      <td>16.3</td>\n",
       "      <td>28</td>\n",
       "      <td>1277.3</td>\n",
       "      <td>55593</td>\n",
       "      <td>1</td>\n",
       "    </tr>\n",
       "    <tr>\n",
       "      <th>Jharkhand</th>\n",
       "      <td>23.5</td>\n",
       "      <td>32</td>\n",
       "      <td>229.3</td>\n",
       "      <td>42705</td>\n",
       "      <td>1</td>\n",
       "    </tr>\n",
       "    <tr>\n",
       "      <th>Karnataka</th>\n",
       "      <td>17.9</td>\n",
       "      <td>28</td>\n",
       "      <td>997.4</td>\n",
       "      <td>321808</td>\n",
       "      <td>1</td>\n",
       "    </tr>\n",
       "    <tr>\n",
       "      <th>Maharashtra</th>\n",
       "      <td>16.3</td>\n",
       "      <td>21</td>\n",
       "      <td>1258.0</td>\n",
       "      <td>608140</td>\n",
       "      <td>1</td>\n",
       "    </tr>\n",
       "    <tr>\n",
       "      <th>Mizoram</th>\n",
       "      <td>16.2</td>\n",
       "      <td>32</td>\n",
       "      <td>417.0</td>\n",
       "      <td>9831</td>\n",
       "      <td>1</td>\n",
       "    </tr>\n",
       "    <tr>\n",
       "      <th>Tamil Nadu</th>\n",
       "      <td>15.2</td>\n",
       "      <td>19</td>\n",
       "      <td>1338.9</td>\n",
       "      <td>261100</td>\n",
       "      <td>1</td>\n",
       "    </tr>\n",
       "    <tr>\n",
       "      <th>Telangana</th>\n",
       "      <td>17.8</td>\n",
       "      <td>34</td>\n",
       "      <td>1415.5</td>\n",
       "      <td>100251</td>\n",
       "      <td>1</td>\n",
       "    </tr>\n",
       "    <tr>\n",
       "      <th>Uttarakhand</th>\n",
       "      <td>17.8</td>\n",
       "      <td>34</td>\n",
       "      <td>1252.9</td>\n",
       "      <td>62945</td>\n",
       "      <td>1</td>\n",
       "    </tr>\n",
       "    <tr>\n",
       "      <th>West Bengal</th>\n",
       "      <td>15.5</td>\n",
       "      <td>26</td>\n",
       "      <td>516.6</td>\n",
       "      <td>295997</td>\n",
       "      <td>1</td>\n",
       "    </tr>\n",
       "  </tbody>\n",
       "</table>\n",
       "</div>"
      ],
      "text/plain": [
       "                   BirthRate  MortalitityRate  PowerAvailability  RoadLength  \\\n",
       "States                                                                         \n",
       "Andhra Pradesh          16.8               37             1019.8      179022   \n",
       "Arunachal Pradesh       18.8               30              427.5       25362   \n",
       "Gujarat                 20.4               33             1714.7      182287   \n",
       "Haryana                 20.9               36             1871.1       46287   \n",
       "Himachal Pradesh        16.3               28             1277.3       55593   \n",
       "Jharkhand               23.5               32              229.3       42705   \n",
       "Karnataka               17.9               28              997.4      321808   \n",
       "Maharashtra             16.3               21             1258.0      608140   \n",
       "Mizoram                 16.2               32              417.0        9831   \n",
       "Tamil Nadu              15.2               19             1338.9      261100   \n",
       "Telangana               17.8               34             1415.5      100251   \n",
       "Uttarakhand             17.8               34             1252.9       62945   \n",
       "West Bengal             15.5               26              516.6      295997   \n",
       "\n",
       "                   cluster  \n",
       "States                      \n",
       "Andhra Pradesh           1  \n",
       "Arunachal Pradesh        1  \n",
       "Gujarat                  1  \n",
       "Haryana                  1  \n",
       "Himachal Pradesh         1  \n",
       "Jharkhand                1  \n",
       "Karnataka                1  \n",
       "Maharashtra              1  \n",
       "Mizoram                  1  \n",
       "Tamil Nadu               1  \n",
       "Telangana                1  \n",
       "Uttarakhand              1  \n",
       "West Bengal              1  "
      ]
     },
     "execution_count": 65,
     "metadata": {},
     "output_type": "execute_result"
    }
   ],
   "source": [
    "data[data['cluster']==1]"
   ]
  },
  {
   "cell_type": "code",
   "execution_count": 67,
   "metadata": {},
   "outputs": [],
   "source": [
    "# cluster 2"
   ]
  },
  {
   "cell_type": "code",
   "execution_count": 69,
   "metadata": {},
   "outputs": [
    {
     "data": {
      "text/html": [
       "<div>\n",
       "<style scoped>\n",
       "    .dataframe tbody tr th:only-of-type {\n",
       "        vertical-align: middle;\n",
       "    }\n",
       "\n",
       "    .dataframe tbody tr th {\n",
       "        vertical-align: top;\n",
       "    }\n",
       "\n",
       "    .dataframe thead th {\n",
       "        text-align: right;\n",
       "    }\n",
       "</style>\n",
       "<table border=\"1\" class=\"dataframe\">\n",
       "  <thead>\n",
       "    <tr style=\"text-align: right;\">\n",
       "      <th></th>\n",
       "      <th>BirthRate</th>\n",
       "      <th>MortalitityRate</th>\n",
       "      <th>PowerAvailability</th>\n",
       "      <th>RoadLength</th>\n",
       "      <th>cluster</th>\n",
       "    </tr>\n",
       "    <tr>\n",
       "      <th>States</th>\n",
       "      <th></th>\n",
       "      <th></th>\n",
       "      <th></th>\n",
       "      <th></th>\n",
       "      <th></th>\n",
       "    </tr>\n",
       "  </thead>\n",
       "  <tbody>\n",
       "    <tr>\n",
       "      <th>Dadra&amp; Nagar Haveli</th>\n",
       "      <td>25.5</td>\n",
       "      <td>21</td>\n",
       "      <td>17281.5</td>\n",
       "      <td>865</td>\n",
       "      <td>2</td>\n",
       "    </tr>\n",
       "    <tr>\n",
       "      <th>Daman &amp; Diu</th>\n",
       "      <td>17.1</td>\n",
       "      <td>18</td>\n",
       "      <td>9620.8</td>\n",
       "      <td>522</td>\n",
       "      <td>2</td>\n",
       "    </tr>\n",
       "  </tbody>\n",
       "</table>\n",
       "</div>"
      ],
      "text/plain": [
       "                     BirthRate  MortalitityRate  PowerAvailability  \\\n",
       "States                                                               \n",
       "Dadra& Nagar Haveli       25.5               21            17281.5   \n",
       "Daman & Diu               17.1               18             9620.8   \n",
       "\n",
       "                     RoadLength  cluster  \n",
       "States                                    \n",
       "Dadra& Nagar Haveli         865        2  \n",
       "Daman & Diu                 522        2  "
      ]
     },
     "execution_count": 69,
     "metadata": {},
     "output_type": "execute_result"
    }
   ],
   "source": [
    "data[data['cluster']==2]"
   ]
  },
  {
   "cell_type": "code",
   "execution_count": 70,
   "metadata": {},
   "outputs": [],
   "source": [
    "# cluster 3"
   ]
  },
  {
   "cell_type": "code",
   "execution_count": 72,
   "metadata": {},
   "outputs": [
    {
     "data": {
      "text/html": [
       "<div>\n",
       "<style scoped>\n",
       "    .dataframe tbody tr th:only-of-type {\n",
       "        vertical-align: middle;\n",
       "    }\n",
       "\n",
       "    .dataframe tbody tr th {\n",
       "        vertical-align: top;\n",
       "    }\n",
       "\n",
       "    .dataframe thead th {\n",
       "        text-align: right;\n",
       "    }\n",
       "</style>\n",
       "<table border=\"1\" class=\"dataframe\">\n",
       "  <thead>\n",
       "    <tr style=\"text-align: right;\">\n",
       "      <th></th>\n",
       "      <th>BirthRate</th>\n",
       "      <th>MortalitityRate</th>\n",
       "      <th>PowerAvailability</th>\n",
       "      <th>RoadLength</th>\n",
       "      <th>cluster</th>\n",
       "    </tr>\n",
       "    <tr>\n",
       "      <th>States</th>\n",
       "      <th></th>\n",
       "      <th></th>\n",
       "      <th></th>\n",
       "      <th></th>\n",
       "      <th></th>\n",
       "    </tr>\n",
       "  </thead>\n",
       "  <tbody>\n",
       "    <tr>\n",
       "      <th>Andaman &amp; Nicobar Islands</th>\n",
       "      <td>12.0</td>\n",
       "      <td>20</td>\n",
       "      <td>473.8</td>\n",
       "      <td>1352</td>\n",
       "      <td>3</td>\n",
       "    </tr>\n",
       "    <tr>\n",
       "      <th>Chandigarh</th>\n",
       "      <td>13.7</td>\n",
       "      <td>21</td>\n",
       "      <td>1523.7</td>\n",
       "      <td>2935</td>\n",
       "      <td>3</td>\n",
       "    </tr>\n",
       "    <tr>\n",
       "      <th>Delhi</th>\n",
       "      <td>16.4</td>\n",
       "      <td>18</td>\n",
       "      <td>1765.8</td>\n",
       "      <td>32067</td>\n",
       "      <td>3</td>\n",
       "    </tr>\n",
       "    <tr>\n",
       "      <th>Goa</th>\n",
       "      <td>12.7</td>\n",
       "      <td>9</td>\n",
       "      <td>3511.6</td>\n",
       "      <td>14624</td>\n",
       "      <td>3</td>\n",
       "    </tr>\n",
       "    <tr>\n",
       "      <th>Jammu and Kashmir</th>\n",
       "      <td>16.2</td>\n",
       "      <td>26</td>\n",
       "      <td>1118.6</td>\n",
       "      <td>39096</td>\n",
       "      <td>3</td>\n",
       "    </tr>\n",
       "    <tr>\n",
       "      <th>Kerala</th>\n",
       "      <td>14.8</td>\n",
       "      <td>12</td>\n",
       "      <td>694.7</td>\n",
       "      <td>194854</td>\n",
       "      <td>3</td>\n",
       "    </tr>\n",
       "    <tr>\n",
       "      <th>Lakshadweep</th>\n",
       "      <td>14.7</td>\n",
       "      <td>20</td>\n",
       "      <td>745.0</td>\n",
       "      <td>214</td>\n",
       "      <td>3</td>\n",
       "    </tr>\n",
       "    <tr>\n",
       "      <th>Manipur</th>\n",
       "      <td>14.4</td>\n",
       "      <td>9</td>\n",
       "      <td>297.6</td>\n",
       "      <td>24247</td>\n",
       "      <td>3</td>\n",
       "    </tr>\n",
       "    <tr>\n",
       "      <th>Nagaland</th>\n",
       "      <td>14.8</td>\n",
       "      <td>12</td>\n",
       "      <td>372.6</td>\n",
       "      <td>37176</td>\n",
       "      <td>3</td>\n",
       "    </tr>\n",
       "    <tr>\n",
       "      <th>Puducherry</th>\n",
       "      <td>13.8</td>\n",
       "      <td>11</td>\n",
       "      <td>1951.8</td>\n",
       "      <td>3072</td>\n",
       "      <td>3</td>\n",
       "    </tr>\n",
       "    <tr>\n",
       "      <th>Punjab</th>\n",
       "      <td>15.2</td>\n",
       "      <td>23</td>\n",
       "      <td>1793.0</td>\n",
       "      <td>105368</td>\n",
       "      <td>3</td>\n",
       "    </tr>\n",
       "    <tr>\n",
       "      <th>Sikkim</th>\n",
       "      <td>17.0</td>\n",
       "      <td>18</td>\n",
       "      <td>656.6</td>\n",
       "      <td>7450</td>\n",
       "      <td>3</td>\n",
       "    </tr>\n",
       "    <tr>\n",
       "      <th>Tripura</th>\n",
       "      <td>14.7</td>\n",
       "      <td>20</td>\n",
       "      <td>312.2</td>\n",
       "      <td>37384</td>\n",
       "      <td>3</td>\n",
       "    </tr>\n",
       "  </tbody>\n",
       "</table>\n",
       "</div>"
      ],
      "text/plain": [
       "                           BirthRate  MortalitityRate  PowerAvailability  \\\n",
       "States                                                                     \n",
       "Andaman & Nicobar Islands       12.0               20              473.8   \n",
       "Chandigarh                      13.7               21             1523.7   \n",
       "Delhi                           16.4               18             1765.8   \n",
       "Goa                             12.7                9             3511.6   \n",
       "Jammu and Kashmir               16.2               26             1118.6   \n",
       "Kerala                          14.8               12              694.7   \n",
       "Lakshadweep                     14.7               20              745.0   \n",
       "Manipur                         14.4                9              297.6   \n",
       "Nagaland                        14.8               12              372.6   \n",
       "Puducherry                      13.8               11             1951.8   \n",
       "Punjab                          15.2               23             1793.0   \n",
       "Sikkim                          17.0               18              656.6   \n",
       "Tripura                         14.7               20              312.2   \n",
       "\n",
       "                           RoadLength  cluster  \n",
       "States                                          \n",
       "Andaman & Nicobar Islands        1352        3  \n",
       "Chandigarh                       2935        3  \n",
       "Delhi                           32067        3  \n",
       "Goa                             14624        3  \n",
       "Jammu and Kashmir               39096        3  \n",
       "Kerala                         194854        3  \n",
       "Lakshadweep                       214        3  \n",
       "Manipur                         24247        3  \n",
       "Nagaland                        37176        3  \n",
       "Puducherry                       3072        3  \n",
       "Punjab                         105368        3  \n",
       "Sikkim                           7450        3  \n",
       "Tripura                         37384        3  "
      ]
     },
     "execution_count": 72,
     "metadata": {},
     "output_type": "execute_result"
    }
   ],
   "source": [
    "data[data['cluster']==3]"
   ]
  },
  {
   "cell_type": "code",
   "execution_count": 73,
   "metadata": {},
   "outputs": [],
   "source": [
    "# cluster 4"
   ]
  },
  {
   "cell_type": "code",
   "execution_count": 74,
   "metadata": {},
   "outputs": [
    {
     "data": {
      "text/html": [
       "<div>\n",
       "<style scoped>\n",
       "    .dataframe tbody tr th:only-of-type {\n",
       "        vertical-align: middle;\n",
       "    }\n",
       "\n",
       "    .dataframe tbody tr th {\n",
       "        vertical-align: top;\n",
       "    }\n",
       "\n",
       "    .dataframe thead th {\n",
       "        text-align: right;\n",
       "    }\n",
       "</style>\n",
       "<table border=\"1\" class=\"dataframe\">\n",
       "  <thead>\n",
       "    <tr style=\"text-align: right;\">\n",
       "      <th></th>\n",
       "      <th>BirthRate</th>\n",
       "      <th>MortalitityRate</th>\n",
       "      <th>PowerAvailability</th>\n",
       "      <th>RoadLength</th>\n",
       "      <th>cluster</th>\n",
       "    </tr>\n",
       "    <tr>\n",
       "      <th>States</th>\n",
       "      <th></th>\n",
       "      <th></th>\n",
       "      <th></th>\n",
       "      <th></th>\n",
       "      <th></th>\n",
       "    </tr>\n",
       "  </thead>\n",
       "  <tbody>\n",
       "    <tr>\n",
       "      <th>Assam</th>\n",
       "      <td>22.0</td>\n",
       "      <td>47</td>\n",
       "      <td>265.4</td>\n",
       "      <td>326512</td>\n",
       "      <td>4</td>\n",
       "    </tr>\n",
       "    <tr>\n",
       "      <th>Bihar</th>\n",
       "      <td>26.3</td>\n",
       "      <td>42</td>\n",
       "      <td>227.9</td>\n",
       "      <td>206010</td>\n",
       "      <td>4</td>\n",
       "    </tr>\n",
       "    <tr>\n",
       "      <th>Chhattisgarh</th>\n",
       "      <td>23.2</td>\n",
       "      <td>41</td>\n",
       "      <td>991.0</td>\n",
       "      <td>97534</td>\n",
       "      <td>4</td>\n",
       "    </tr>\n",
       "    <tr>\n",
       "      <th>Madhya Pradesh</th>\n",
       "      <td>25.5</td>\n",
       "      <td>50</td>\n",
       "      <td>859.2</td>\n",
       "      <td>288931</td>\n",
       "      <td>4</td>\n",
       "    </tr>\n",
       "    <tr>\n",
       "      <th>Meghalaya</th>\n",
       "      <td>23.7</td>\n",
       "      <td>42</td>\n",
       "      <td>581.6</td>\n",
       "      <td>13372</td>\n",
       "      <td>4</td>\n",
       "    </tr>\n",
       "    <tr>\n",
       "      <th>Odisha</th>\n",
       "      <td>19.2</td>\n",
       "      <td>46</td>\n",
       "      <td>634.1</td>\n",
       "      <td>283692</td>\n",
       "      <td>4</td>\n",
       "    </tr>\n",
       "    <tr>\n",
       "      <th>Rajasthan</th>\n",
       "      <td>24.8</td>\n",
       "      <td>43</td>\n",
       "      <td>979.4</td>\n",
       "      <td>248156</td>\n",
       "      <td>4</td>\n",
       "    </tr>\n",
       "    <tr>\n",
       "      <th>Uttar Pradesh</th>\n",
       "      <td>26.7</td>\n",
       "      <td>46</td>\n",
       "      <td>466.1</td>\n",
       "      <td>415383</td>\n",
       "      <td>4</td>\n",
       "    </tr>\n",
       "  </tbody>\n",
       "</table>\n",
       "</div>"
      ],
      "text/plain": [
       "                BirthRate  MortalitityRate  PowerAvailability  RoadLength  \\\n",
       "States                                                                      \n",
       "Assam                22.0               47              265.4      326512   \n",
       "Bihar                26.3               42              227.9      206010   \n",
       "Chhattisgarh         23.2               41              991.0       97534   \n",
       "Madhya Pradesh       25.5               50              859.2      288931   \n",
       "Meghalaya            23.7               42              581.6       13372   \n",
       "Odisha               19.2               46              634.1      283692   \n",
       "Rajasthan            24.8               43              979.4      248156   \n",
       "Uttar Pradesh        26.7               46              466.1      415383   \n",
       "\n",
       "                cluster  \n",
       "States                   \n",
       "Assam                 4  \n",
       "Bihar                 4  \n",
       "Chhattisgarh          4  \n",
       "Madhya Pradesh        4  \n",
       "Meghalaya             4  \n",
       "Odisha                4  \n",
       "Rajasthan             4  \n",
       "Uttar Pradesh         4  "
      ]
     },
     "execution_count": 74,
     "metadata": {},
     "output_type": "execute_result"
    }
   ],
   "source": [
    "data[data['cluster']==4]"
   ]
  },
  {
   "cell_type": "code",
   "execution_count": 75,
   "metadata": {},
   "outputs": [],
   "source": [
    "# cluster profiling"
   ]
  },
  {
   "cell_type": "code",
   "execution_count": 83,
   "metadata": {},
   "outputs": [
    {
     "data": {
      "text/html": [
       "<div>\n",
       "<style scoped>\n",
       "    .dataframe tbody tr th:only-of-type {\n",
       "        vertical-align: middle;\n",
       "    }\n",
       "\n",
       "    .dataframe tbody tr th {\n",
       "        vertical-align: top;\n",
       "    }\n",
       "\n",
       "    .dataframe thead th {\n",
       "        text-align: right;\n",
       "    }\n",
       "</style>\n",
       "<table border=\"1\" class=\"dataframe\">\n",
       "  <thead>\n",
       "    <tr style=\"text-align: right;\">\n",
       "      <th></th>\n",
       "      <th>BirthRate</th>\n",
       "      <th>MortalitityRate</th>\n",
       "      <th>PowerAvailability</th>\n",
       "      <th>RoadLength</th>\n",
       "    </tr>\n",
       "    <tr>\n",
       "      <th>cluster</th>\n",
       "      <th></th>\n",
       "      <th></th>\n",
       "      <th></th>\n",
       "      <th></th>\n",
       "    </tr>\n",
       "  </thead>\n",
       "  <tbody>\n",
       "    <tr>\n",
       "      <th>1</th>\n",
       "      <td>17.953846</td>\n",
       "      <td>30.000000</td>\n",
       "      <td>1056.615385</td>\n",
       "      <td>168563.692308</td>\n",
       "    </tr>\n",
       "    <tr>\n",
       "      <th>2</th>\n",
       "      <td>21.300000</td>\n",
       "      <td>19.500000</td>\n",
       "      <td>13451.150000</td>\n",
       "      <td>693.500000</td>\n",
       "    </tr>\n",
       "    <tr>\n",
       "      <th>3</th>\n",
       "      <td>14.646154</td>\n",
       "      <td>16.846154</td>\n",
       "      <td>1170.538462</td>\n",
       "      <td>38449.153846</td>\n",
       "    </tr>\n",
       "    <tr>\n",
       "      <th>4</th>\n",
       "      <td>23.925000</td>\n",
       "      <td>44.625000</td>\n",
       "      <td>625.587500</td>\n",
       "      <td>234948.750000</td>\n",
       "    </tr>\n",
       "  </tbody>\n",
       "</table>\n",
       "</div>"
      ],
      "text/plain": [
       "         BirthRate  MortalitityRate  PowerAvailability     RoadLength\n",
       "cluster                                                              \n",
       "1        17.953846        30.000000        1056.615385  168563.692308\n",
       "2        21.300000        19.500000       13451.150000     693.500000\n",
       "3        14.646154        16.846154        1170.538462   38449.153846\n",
       "4        23.925000        44.625000         625.587500  234948.750000"
      ]
     },
     "execution_count": 83,
     "metadata": {},
     "output_type": "execute_result"
    }
   ],
   "source": [
    "data.groupby('cluster').mean()"
   ]
  },
  {
   "cell_type": "code",
   "execution_count": 84,
   "metadata": {},
   "outputs": [],
   "source": [
    "# plot clusters"
   ]
  },
  {
   "cell_type": "code",
   "execution_count": 85,
   "metadata": {},
   "outputs": [
    {
     "data": {
      "text/plain": [
       "<Figure size 864x432 with 0 Axes>"
      ]
     },
     "execution_count": 85,
     "metadata": {},
     "output_type": "execute_result"
    },
    {
     "data": {
      "text/plain": [
       "<Figure size 864x432 with 0 Axes>"
      ]
     },
     "metadata": {},
     "output_type": "display_data"
    }
   ],
   "source": [
    "plt.figure(figsize=(12,6))"
   ]
  },
  {
   "cell_type": "code",
   "execution_count": 89,
   "metadata": {},
   "outputs": [
    {
     "data": {
      "text/plain": [
       "<matplotlib.axes._subplots.AxesSubplot at 0x1e6b4ed0ca0>"
      ]
     },
     "execution_count": 89,
     "metadata": {},
     "output_type": "execute_result"
    },
    {
     "data": {
      "image/png": "[encoded data removed]",
      "text/plain": [
       "<Figure size 432x288 with 1 Axes>"
      ]
     },
     "metadata": {
      "needs_background": "light"
     },
     "output_type": "display_data"
    }
   ],
   "source": [
    "sb.scatterplot(data['BirthRate'],data['MortalitityRate'],hue=Final_Clusters,\n",
    "              palette=['green','orange','blue','red'])"
   ]
  },
  {
   "cell_type": "code",
   "execution_count": 90,
   "metadata": {},
   "outputs": [],
   "source": [
    "# silhouette score"
   ]
  },
  {
   "cell_type": "code",
   "execution_count": 92,
   "metadata": {},
   "outputs": [],
   "source": [
    "import numpy as np\n",
    "from matplotlib import cm\n",
    "from sklearn.metrics import silhouette_samples"
   ]
  },
  {
   "cell_type": "code",
   "execution_count": 94,
   "metadata": {},
   "outputs": [],
   "source": [
    "cluster_labels = np.unique(clusters)"
   ]
  },
  {
   "cell_type": "code",
   "execution_count": 95,
   "metadata": {},
   "outputs": [],
   "source": [
    "n_clusters = cluster_labels.shape[0]"
   ]
  },
  {
   "cell_type": "code",
   "execution_count": 96,
   "metadata": {},
   "outputs": [],
   "source": [
    "silhouette_vals = silhouette_samples(data_scaled,clusters,\n",
    "                                    metric='euclidean')"
   ]
  },
  {
   "cell_type": "code",
   "execution_count": 97,
   "metadata": {},
   "outputs": [],
   "source": [
    "y_ax_lower,y_ax_upper=0,0"
   ]
  },
  {
   "cell_type": "code",
   "execution_count": 98,
   "metadata": {},
   "outputs": [],
   "source": [
    "yticks=[]"
   ]
  },
  {
   "cell_type": "code",
   "execution_count": null,
   "metadata": {},
   "outputs": [],
   "source": [
    "for i, c in enumerate(cluster_labels):\n",
    "    c_silhouette_vals=silhouette_vals[clusters==c]\n",
    "    "
   ]
  }
 ],
 "metadata": {
  "kernelspec": {
   "display_name": "Python 3",
   "language": "python",
   "name": "python3"
  },
  "language_info": {
   "codemirror_mode": {
    "name": "ipython",
    "version": 3
   },
   "file_extension": ".py",
   "mimetype": "text/x-python",
   "name": "python",
   "nbconvert_exporter": "python",
   "pygments_lexer": "ipython3",
   "version": "3.8.3"
  }
 },
 "nbformat": 4,
 "nbformat_minor": 4
}
